{
 "cells": [
  {
   "cell_type": "markdown",
   "metadata": {},
   "source": [
    "Acesso á internet e Tv\n",
    "\n",
    "O meu objetivo do projeto é definir a relção da escolaridade com o acesso da internet e a renda"
   ]
  },
  {
   "cell_type": "code",
   "execution_count": 1,
   "metadata": {},
   "outputs": [
    {
     "name": "stdout",
     "output_type": "stream",
     "text": [
      "Esperamos trabalhar no diretório\n",
      "E:\\Semestre 2\\Ciência dos Dados\\Projetos\\InsperEng-CD\n",
      "ok\n"
     ]
    }
   ],
   "source": [
    "\n",
    "#  O meu objetivo do projeto é definir a relção da escolaridade com o acesso da internet e a renda\n",
    "import pandas as pd\n",
    "import matplotlib.pyplot as plt\n",
    "import os\n",
    "\n",
    "print('Esperamos trabalhar no diretório')\n",
    "print(os.getcwd())\n",
    "print(\"ok\")\n"
   ]
  },
  {
   "cell_type": "code",
   "execution_count": 10,
   "metadata": {},
   "outputs": [
    {
     "name": "stdout",
     "output_type": "stream",
     "text": [
      "ok\n"
     ]
    }
   ],
   "source": [
    "dados2015 = pd.read_csv('..\\DADOS PNAD\\PES2015.csv',sep='\\t')\n",
    "dados2014 = pd.read_csv('..\\DADOS PNAD\\PES2014.csv',sep='\\t')\n",
    "dados2013 = pd.read_csv('..\\DADOS PNAD\\PES2013.csv',sep='\\t')\n",
    "print(\"ok\")\n"
   ]
  },
  {
   "cell_type": "code",
   "execution_count": 8,
   "metadata": {},
   "outputs": [
    {
     "name": "stdout",
     "output_type": "stream",
     "text": [
      "ok\n"
     ]
    }
   ],
   "source": [
    "lista = [\"UF\", \"V8005\", \"V06111\", \"V4750\", \"V4745\"]\n",
    "Selected_data2015 = dados2015.loc[:,lista]\n",
    "Selected_data2014 = dados2014.loc[:,lista]\n",
    "Selected_data2013 = dados2013.loc[:,lista]\n",
    "\n",
    "print(\"ok\")"
   ]
  },
  {
   "cell_type": "code",
   "execution_count": 9,
   "metadata": {},
   "outputs": [
    {
     "name": "stdout",
     "output_type": "stream",
     "text": [
      "ok\n"
     ]
    }
   ],
   "source": [
    "# Selected_data.to_csv(\"Dados_selecionados.csv\", index=False)\n",
    "Selected_data2015.to_csv(\"Dados_selecionados_2015.csv\", index=False)\n",
    "Selected_data2014.to_csv(\"Dados_selecionados_2014.csv\", index=False)\n",
    "Selected_data2013.to_csv(\"Dados_selecionados_2013.csv\", index=False)\n",
    "print(\"ok\")\n",
    "# Selected_data\n"
   ]
  }
 ],
 "metadata": {
  "kernelspec": {
   "display_name": "Python 3",
   "language": "python",
   "name": "python3"
  },
  "language_info": {
   "codemirror_mode": {
    "name": "ipython",
    "version": 3
   },
   "file_extension": ".py",
   "mimetype": "text/x-python",
   "name": "python",
   "nbconvert_exporter": "python",
   "pygments_lexer": "ipython3",
   "version": "3.6.1"
  }
 },
 "nbformat": 4,
 "nbformat_minor": 2
}
